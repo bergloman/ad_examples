{
 "cells": [
  {
   "cell_type": "code",
   "execution_count": 1,
   "metadata": {},
   "outputs": [
    {
     "name": "stderr",
     "output_type": "stream",
     "text": [
      "/opt/conda/lib/python3.7/site-packages/sklearn/externals/six.py:31: FutureWarning: The module is deprecated in version 0.21 and will be removed in version 0.23 since we've dropped support for Python 2.7. Please rely on the official version of six (https://pypi.org/project/six/).\n",
      "  \"(https://pypi.org/project/six/).\", FutureWarning)\n",
      "/opt/conda/lib/python3.7/site-packages/sklearn/utils/deprecation.py:144: FutureWarning: The sklearn.ensemble.bagging module is  deprecated in version 0.22 and will be removed in version 0.24. The corresponding classes / functions should instead be imported from sklearn.ensemble. Anything that cannot be imported from sklearn.ensemble is now part of the private API.\n",
      "  warnings.warn(message, FutureWarning)\n"
     ]
    }
   ],
   "source": [
    "import logging\n",
    "import numpy as np\n",
    "import os\n",
    "import numpy.random as rnd\n",
    "from sklearn.metrics import f1_score\n",
    "\n",
    "from ad_examples.common.utils import read_csv, dataframe_to_matrix\n",
    "from ad_examples.common.gen_samples import get_synthetic_samples\n",
    "from ad_examples.aad.aad_support import AadOpts, get_aad_command_args, configure_logger\n",
    "from ad_examples.aad.forest_description import CompactDescriber, MinimumVolumeCoverDescriber, BayesianRulesetsDescriber, get_region_memberships\n",
    "from ad_examples.aad.demo_aad import get_debug_args, detect_anomalies_and_describe\n",
    "\n",
    "from ad_examples.loda.loda import Loda\n",
    "\n",
    "logger = logging.getLogger(__name__)"
   ]
  },
  {
   "cell_type": "code",
   "execution_count": 2,
   "metadata": {},
   "outputs": [],
   "source": [
    "def convert_scores_to_classes(scores, anomaly_ratio):\n",
    "    \"\"\"\n",
    "    Converts list of scores to flags (0/1) - top anomalies are marked as 1.\n",
    "    \"\"\"\n",
    "    anomaly_cnt = int(len(scores) * anomaly_ratio)\n",
    "    anomaly_indices = np.array(scores).argsort()[-anomaly_cnt:][::-1]\n",
    "    y_pred = np.zeros(len(scores))\n",
    "    np.put(y_pred, anomaly_indices, 1)\n",
    "    return y_pred\n",
    "\n",
    "\n",
    "def load_data():\n",
    "    print(\"loading csv...\")\n",
    "    data_df = read_csv(\"../notebooks/data/simple.type123.csv\", header=True)\n",
    "\n",
    "    print(\"transforming data...\")\n",
    "    x, y = dataframe_to_matrix(data_df)\n",
    "    return (x, y)\n",
    "\n",
    "\n",
    "def slice_data(x, y, idx_from, idx_to):\n",
    "    n = x.shape[0]\n",
    "    return (x[idx_from:idx_to, :], y[idx_from:idx_to])\n"
   ]
  },
  {
   "cell_type": "code",
   "execution_count": 3,
   "metadata": {},
   "outputs": [],
   "source": [
    "def run_loda(x_old, scores_old, x, outliers_fraction):\n",
    "    # ad_type=\"loda\"\n",
    "    # data_type = \"type123\"\n",
    "    # data_size=\"complex\"\n",
    "\n",
    "    rnd.seed(42)\n",
    "\n",
    "    n = x.shape[0]\n",
    "    # outliers_fraction = np.sum(y) / len(y)\n",
    "    # xx = yy = x_grid = Z = scores = None\n",
    "\n",
    "    print(\"running LODA...\")\n",
    "    ad = Loda(mink=100, maxk=200)\n",
    "    ad.fit(x_old)\n",
    "    if scores_old == None:\n",
    "        print(\"Calculating inital scores\")\n",
    "        scores_old = -ad.decision_function(x_old)\n",
    "\n",
    "    print(\"Evaluating...\")\n",
    "    scores = -ad.decision_function(x)\n",
    "\n",
    "    print(\"Combining with historic scores and converting to classes...\")\n",
    "    print(scores_old)\n",
    "    print(scores)\n",
    "    scores_combined = np.concatenate(scores_old, scores)\n",
    "    y_pred_combined = convert_scores_to_classes(scores_combined, outliers_fraction)\n",
    "    y_pred = y_pred_combined[len(scores_old):]\n",
    "\n",
    "    # print(\"Calculating F1 scores...\")\n",
    "    # f1 = f1_score(y, y_pred, average=None) # average='weighted')\n",
    "    # print(f1)\n",
    "\n",
    "    return (scores_combined, y_pred)\n"
   ]
  },
  {
   "cell_type": "code",
   "execution_count": 4,
   "metadata": {},
   "outputs": [
    {
     "name": "stdout",
     "output_type": "stream",
     "text": [
      "loading csv...\n",
      "transforming data...\n",
      "104880 46080 20160\n",
      "running LODA...\n",
      "Calculating inital scores\n",
      "Evaluating...\n",
      "Combining with historic scores and converting to classes...\n",
      "[399.69744409 403.78871826 446.81361814 ... 403.55507375 455.44715337\n",
      " 385.80685385]\n",
      "[]\n"
     ]
    },
    {
     "ename": "TypeError",
     "evalue": "only integer scalar arrays can be converted to a scalar index",
     "output_type": "error",
     "traceback": [
      "\u001b[0;31m---------------------------------------------------------------------------\u001b[0m",
      "\u001b[0;31mTypeError\u001b[0m                                 Traceback (most recent call last)",
      "\u001b[0;32m<ipython-input-4-e40533a2f73e>\u001b[0m in \u001b[0;36m<module>\u001b[0;34m\u001b[0m\n\u001b[1;32m     14\u001b[0m     \u001b[0;34m(\u001b[0m\u001b[0mx1\u001b[0m\u001b[0;34m,\u001b[0m \u001b[0my1\u001b[0m\u001b[0;34m)\u001b[0m \u001b[0;34m=\u001b[0m \u001b[0mslice_data\u001b[0m\u001b[0;34m(\u001b[0m\u001b[0mgt_x\u001b[0m\u001b[0;34m,\u001b[0m \u001b[0mgt_y\u001b[0m\u001b[0;34m,\u001b[0m \u001b[0;36m0\u001b[0m\u001b[0;34m,\u001b[0m \u001b[0midx_curr_time\u001b[0m\u001b[0;34m)\u001b[0m\u001b[0;34m\u001b[0m\u001b[0;34m\u001b[0m\u001b[0m\n\u001b[1;32m     15\u001b[0m     \u001b[0;34m(\u001b[0m\u001b[0mx2\u001b[0m\u001b[0;34m,\u001b[0m \u001b[0my2\u001b[0m\u001b[0;34m)\u001b[0m \u001b[0;34m=\u001b[0m \u001b[0mslice_data\u001b[0m\u001b[0;34m(\u001b[0m\u001b[0mgt_x\u001b[0m\u001b[0;34m,\u001b[0m \u001b[0mgt_y\u001b[0m\u001b[0;34m,\u001b[0m \u001b[0midx_curr_time\u001b[0m\u001b[0;34m,\u001b[0m \u001b[0mblock_size\u001b[0m\u001b[0;34m)\u001b[0m\u001b[0;34m\u001b[0m\u001b[0;34m\u001b[0m\u001b[0m\n\u001b[0;32m---> 16\u001b[0;31m     \u001b[0;34m(\u001b[0m\u001b[0mscores_all\u001b[0m\u001b[0;34m,\u001b[0m \u001b[0my_pred_new\u001b[0m\u001b[0;34m)\u001b[0m \u001b[0;34m=\u001b[0m \u001b[0mrun_loda\u001b[0m\u001b[0;34m(\u001b[0m\u001b[0mx1\u001b[0m\u001b[0;34m,\u001b[0m \u001b[0mscores_all\u001b[0m\u001b[0;34m,\u001b[0m \u001b[0mx2\u001b[0m\u001b[0;34m,\u001b[0m \u001b[0;36m0.01\u001b[0m\u001b[0;34m)\u001b[0m\u001b[0;34m\u001b[0m\u001b[0;34m\u001b[0m\u001b[0m\n\u001b[0m\u001b[1;32m     17\u001b[0m     \u001b[0my_pred\u001b[0m \u001b[0;34m=\u001b[0m \u001b[0mnp\u001b[0m\u001b[0;34m.\u001b[0m\u001b[0mconcatenate\u001b[0m\u001b[0;34m(\u001b[0m\u001b[0my_pred\u001b[0m\u001b[0;34m,\u001b[0m \u001b[0my_pred_new\u001b[0m\u001b[0;34m)\u001b[0m\u001b[0;34m\u001b[0m\u001b[0;34m\u001b[0m\u001b[0m\n\u001b[1;32m     18\u001b[0m     \u001b[0midx_curr_time\u001b[0m \u001b[0;34m=\u001b[0m \u001b[0midx_curr_time\u001b[0m \u001b[0;34m+\u001b[0m \u001b[0mblock_size\u001b[0m\u001b[0;34m\u001b[0m\u001b[0;34m\u001b[0m\u001b[0m\n",
      "\u001b[0;32m<ipython-input-3-d5036e63e318>\u001b[0m in \u001b[0;36mrun_loda\u001b[0;34m(x_old, scores_old, x, outliers_fraction)\u001b[0m\n\u001b[1;32m     23\u001b[0m     \u001b[0mprint\u001b[0m\u001b[0;34m(\u001b[0m\u001b[0mscores_old\u001b[0m\u001b[0;34m)\u001b[0m\u001b[0;34m\u001b[0m\u001b[0;34m\u001b[0m\u001b[0m\n\u001b[1;32m     24\u001b[0m     \u001b[0mprint\u001b[0m\u001b[0;34m(\u001b[0m\u001b[0mscores\u001b[0m\u001b[0;34m)\u001b[0m\u001b[0;34m\u001b[0m\u001b[0;34m\u001b[0m\u001b[0m\n\u001b[0;32m---> 25\u001b[0;31m     \u001b[0mscores_combined\u001b[0m \u001b[0;34m=\u001b[0m \u001b[0mnp\u001b[0m\u001b[0;34m.\u001b[0m\u001b[0mconcatenate\u001b[0m\u001b[0;34m(\u001b[0m\u001b[0mscores_old\u001b[0m\u001b[0;34m,\u001b[0m \u001b[0mscores\u001b[0m\u001b[0;34m)\u001b[0m\u001b[0;34m\u001b[0m\u001b[0;34m\u001b[0m\u001b[0m\n\u001b[0m\u001b[1;32m     26\u001b[0m     \u001b[0my_pred_combined\u001b[0m \u001b[0;34m=\u001b[0m \u001b[0mconvert_scores_to_classes\u001b[0m\u001b[0;34m(\u001b[0m\u001b[0mscores_combined\u001b[0m\u001b[0;34m,\u001b[0m \u001b[0moutliers_fraction\u001b[0m\u001b[0;34m)\u001b[0m\u001b[0;34m\u001b[0m\u001b[0;34m\u001b[0m\u001b[0m\n\u001b[1;32m     27\u001b[0m     \u001b[0my_pred\u001b[0m \u001b[0;34m=\u001b[0m \u001b[0my_pred_combined\u001b[0m\u001b[0;34m[\u001b[0m\u001b[0mlen\u001b[0m\u001b[0;34m(\u001b[0m\u001b[0mscores_old\u001b[0m\u001b[0;34m)\u001b[0m\u001b[0;34m:\u001b[0m\u001b[0;34m]\u001b[0m\u001b[0;34m\u001b[0m\u001b[0;34m\u001b[0m\u001b[0m\n",
      "\u001b[0;32m<__array_function__ internals>\u001b[0m in \u001b[0;36mconcatenate\u001b[0;34m(*args, **kwargs)\u001b[0m\n",
      "\u001b[0;31mTypeError\u001b[0m: only integer scalar arrays can be converted to a scalar index"
     ]
    }
   ],
   "source": [
    "(gt_x, gt_y) = load_data()\n",
    "# print(gt_x.shape)\n",
    "\n",
    "day_rec_cnt = 24 * 12\n",
    "block_size = 70 * day_rec_cnt\n",
    "idx_start = 160 * day_rec_cnt\n",
    "idx_curr_time = idx_start\n",
    "n = gt_y.shape[0]\n",
    "scores_all = None\n",
    "y_pred = np.zeros(0)\n",
    "\n",
    "while idx_curr_time < n :\n",
    "    print(n, idx_curr_time, block_size)\n",
    "    (x1, y1) = slice_data(gt_x, gt_y, 0, idx_curr_time)\n",
    "    (x2, y2) = slice_data(gt_x, gt_y, idx_curr_time, block_size)\n",
    "    (scores_all, y_pred_new) = run_loda(x1, scores_all, x2, 0.01)\n",
    "    y_pred = np.concatenate(y_pred, y_pred_new)\n",
    "    idx_curr_time = idx_curr_time + block_size\n",
    "\n",
    "print(\"finished with training, analyzing combined output\")\n",
    "y = gt_y[idx_start:]\n",
    "\n",
    "print(\"Calculating F1 scores...\")\n",
    "f1 = f1_score(y, y_pred, average=None) # average='weighted')\n",
    "\n",
    "print(f1)\n"
   ]
  },
  {
   "cell_type": "code",
   "execution_count": 5,
   "metadata": {},
   "outputs": [
    {
     "name": "stdout",
     "output_type": "stream",
     "text": [
      "loading csv...\n",
      "transforming data...\n"
     ]
    }
   ],
   "source": [
    "(gt_x, gt_y) = load_data()\n",
    "# print(gt_x.shape)\n",
    "\n",
    "day_rec_cnt = 24 * 12\n",
    "block_size = 70 * day_rec_cnt\n",
    "idx_start = 160 * day_rec_cnt\n",
    "idx_curr_time = idx_start\n",
    "n = gt_y.shape[0]\n",
    "scores_all = None\n",
    "y_pred = np.zeros(0)"
   ]
  },
  {
   "cell_type": "code",
   "execution_count": 17,
   "metadata": {},
   "outputs": [
    {
     "name": "stdout",
     "output_type": "stream",
     "text": [
      "46080 46080 20160\n",
      "(46080, 12)\n",
      "(46080,)\n",
      "(20160, 12)\n",
      "(20160,)\n"
     ]
    }
   ],
   "source": [
    "print(n, idx_curr_time, block_size)\n",
    "(x1, y1) = slice_data(gt_x, gt_y, 0, idx_curr_time)\n",
    "(x2, y2) = slice_data(gt_x, gt_y, idx_curr_time, idx_curr_time + block_size)\n",
    "print(x1.shape)\n",
    "print(y1.shape)\n",
    "print(x2.shape)\n",
    "print(y2.shape)"
   ]
  },
  {
   "cell_type": "code",
   "execution_count": 18,
   "metadata": {},
   "outputs": [
    {
     "name": "stdout",
     "output_type": "stream",
     "text": [
      "running LODA...\n"
     ]
    }
   ],
   "source": [
    "rnd.seed(42)\n",
    "\n",
    "n = x1.shape[0]\n",
    "\n",
    "print(\"running LODA...\")\n",
    "ad = Loda(mink=100, maxk=200)"
   ]
  },
  {
   "cell_type": "code",
   "execution_count": 19,
   "metadata": {},
   "outputs": [
    {
     "name": "stdout",
     "output_type": "stream",
     "text": [
      "Calculating inital scores\n",
      "[399.69744409 403.78871826 446.81361814 ... 403.55507375 455.44715337\n",
      " 385.80685385]\n"
     ]
    }
   ],
   "source": [
    "ad.fit(x1)\n",
    "print(\"Calculating inital scores\")\n",
    "scores_old = -ad.decision_function(x1)\n",
    "print(scores_old)"
   ]
  },
  {
   "cell_type": "code",
   "execution_count": 20,
   "metadata": {},
   "outputs": [
    {
     "name": "stdout",
     "output_type": "stream",
     "text": [
      "Evaluating...\n"
     ]
    }
   ],
   "source": [
    "print(\"Evaluating...\")\n",
    "scores = -ad.decision_function(x2)"
   ]
  },
  {
   "cell_type": "code",
   "execution_count": 24,
   "metadata": {},
   "outputs": [
    {
     "name": "stdout",
     "output_type": "stream",
     "text": [
      "Combining with historic scores and converting to classes...\n",
      "(46080,)\n",
      "(20160,)\n"
     ]
    }
   ],
   "source": [
    "print(\"Combining with historic scores and converting to classes...\")\n",
    "print(scores_old.shape)\n",
    "print(scores.shape)"
   ]
  },
  {
   "cell_type": "code",
   "execution_count": 28,
   "metadata": {},
   "outputs": [],
   "source": [
    "np.concatenate((np.array(scores_old), np.array(scores)), 0)\n",
    "outliers_fraction = 0.01"
   ]
  },
  {
   "cell_type": "code",
   "execution_count": 29,
   "metadata": {},
   "outputs": [],
   "source": [
    "scores_combined = np.concatenate((np.array(scores_old), np.array(scores)), 0)\n",
    "y_pred_combined = convert_scores_to_classes(scores_combined, outliers_fraction)\n",
    "y_pred = y_pred_combined[len(scores_old):]"
   ]
  },
  {
   "cell_type": "code",
   "execution_count": 31,
   "metadata": {},
   "outputs": [
    {
     "data": {
      "text/plain": [
       "637.0"
      ]
     },
     "execution_count": 31,
     "metadata": {},
     "output_type": "execute_result"
    }
   ],
   "source": [
    "np.sum(y_pred)"
   ]
  },
  {
   "cell_type": "code",
   "execution_count": null,
   "metadata": {},
   "outputs": [],
   "source": [
    "\n",
    "return (scores_combined, y_pred)"
   ]
  },
  {
   "cell_type": "code",
   "execution_count": null,
   "metadata": {},
   "outputs": [],
   "source": [
    "(scores_all, y_pred_new) = run_loda(x1, scores_all, x2, 0.01)\n",
    "y_pred = np.concatenate(y_pred, y_pred_new)\n",
    "idx_curr_time = idx_curr_time + block_size\n"
   ]
  }
 ],
 "metadata": {
  "kernelspec": {
   "display_name": "Python 3",
   "language": "python",
   "name": "python3"
  },
  "language_info": {
   "codemirror_mode": {
    "name": "ipython",
    "version": 3
   },
   "file_extension": ".py",
   "mimetype": "text/x-python",
   "name": "python",
   "nbconvert_exporter": "python",
   "pygments_lexer": "ipython3",
   "version": "3.7.6"
  }
 },
 "nbformat": 4,
 "nbformat_minor": 4
}
